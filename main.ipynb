{
 "cells": [
  {
   "cell_type": "code",
   "execution_count": 1,
   "metadata": {},
   "outputs": [
    {
     "name": "stdout",
     "output_type": "stream",
     "text": [
      "(1372, 5)\n"
     ]
    }
   ],
   "source": [
    "import numpy as np\n",
    "from pandas import read_csv\n",
    "import seaborn as sns\n",
    "import numpy as np\n",
    "import pandas as pd\n",
    "import matplotlib.pyplot as plt\n",
    "from sklearn.preprocessing import LabelEncoder\n",
    "from sklearn.model_selection import train_test_split\n",
    "from sklearn.metrics import accuracy_score\n",
    "from sklearn.metrics import classification_report, plot_roc_curve\n",
    "from matplotlib import pyplot\n",
    "from helper import *\n",
    "from Model import model\n",
    "# define the location of the dataset\n",
    "path = 'BankNote_Authentication.csv'\n",
    "# load the dataset\n",
    "df = read_csv(path, header=None)\n",
    "# summarize shape\n",
    "print(df.shape)\n",
    "%matplotlib inline\n"
   ]
  },
  {
   "cell_type": "code",
   "execution_count": 2,
   "metadata": {},
   "outputs": [
    {
     "name": "stdout",
     "output_type": "stream",
     "text": [
      "                 0            1            2            3            4\n",
      "count  1372.000000  1372.000000  1372.000000  1372.000000  1372.000000\n",
      "mean      0.433735     1.922353     1.397627    -1.191657     0.444606\n",
      "std       2.842763     5.869047     4.310030     2.101013     0.497103\n",
      "min      -7.042100   -13.773100    -5.286100    -8.548200     0.000000\n",
      "25%      -1.773000    -1.708200    -1.574975    -2.413450     0.000000\n",
      "50%       0.496180     2.319650     0.616630    -0.586650     0.000000\n",
      "75%       2.821475     6.814625     3.179250     0.394810     1.000000\n",
      "max       6.824800    12.951600    17.927400     2.449500     1.000000\n"
     ]
    },
    {
     "data": {
      "image/png": "[encoded data removed]",
      "text/plain": [
       "<Figure size 432x288 with 6 Axes>"
      ]
     },
     "metadata": {
      "needs_background": "light"
     },
     "output_type": "display_data"
    }
   ],
   "source": [
    "print(df.describe())\n",
    "# plot histograms\n",
    "df.hist()\n",
    "pyplot.show()"
   ]
  },
  {
   "cell_type": "code",
   "execution_count": 3,
   "metadata": {},
   "outputs": [
    {
     "name": "stdout",
     "output_type": "stream",
     "text": [
      "(4, 919) (1, 919)\n",
      "(4, 453) (1, 453)\n"
     ]
    }
   ],
   "source": [
    "# split into input and output columns\n",
    "X, y = df.values[:, :-1], df.values[:, -1]\n",
    "# ensure all data are floating point values\n",
    "X = X.astype('float32')\n",
    "# encode strings to integer\n",
    "y = LabelEncoder().fit_transform(y)\n",
    "# split into train and test datasets\n",
    "X_train, X_test, y_train, y_test = train_test_split(X, y, test_size=0.33)\n",
    "# determine the number of input features\n",
    "n_features = X.shape[1]\n",
    "\n",
    "X_train = X_train.T\n",
    "y_train = np.expand_dims(y_train, axis = 0)\n",
    "\n",
    "X_test = X_test.T\n",
    "y_test = np.expand_dims(y_test,axis=0)\n",
    "print(X_train.shape,y_train.shape)\n",
    "print(X_test.shape, y_test.shape)\n"
   ]
  },
  {
   "cell_type": "code",
   "execution_count": 4,
   "metadata": {},
   "outputs": [],
   "source": [
    "layers_dims = [4,10,10, 1] #  3-layer model"
   ]
  },
  {
   "cell_type": "code",
   "execution_count": 14,
   "metadata": {
    "scrolled": true
   },
   "outputs": [
    {
     "name": "stdout",
     "output_type": "stream",
     "text": [
      "Cost after iteration 0: 0.750554\n",
      "Cost after iteration 100: 0.684085\n",
      "Cost after iteration 200: 0.672947\n",
      "Cost after iteration 300: 0.669161\n",
      "Cost after iteration 400: 0.666095\n",
      "Cost after iteration 500: 0.662823\n",
      "Cost after iteration 600: 0.659188\n",
      "Cost after iteration 700: 0.655132\n",
      "Cost after iteration 800: 0.650612\n",
      "Cost after iteration 900: 0.645579\n",
      "Cost after iteration 1000: 0.639979\n",
      "Cost after iteration 1100: 0.633754\n",
      "Cost after iteration 1200: 0.626839\n",
      "Cost after iteration 1300: 0.619168\n",
      "Cost after iteration 1400: 0.610672\n",
      "Cost after iteration 1500: 0.601284\n",
      "Cost after iteration 1600: 0.590934\n",
      "Cost after iteration 1700: 0.579553\n",
      "Cost after iteration 1800: 0.567070\n",
      "Cost after iteration 1900: 0.553418\n",
      "Cost after iteration 2000: 0.538542\n",
      "Cost after iteration 2100: 0.522402\n",
      "Cost after iteration 2200: 0.504987\n",
      "Cost after iteration 2300: 0.486319\n",
      "Cost after iteration 2400: 0.466467\n",
      "Cost after iteration 2500: 0.445553\n",
      "Cost after iteration 2600: 0.423777\n",
      "Cost after iteration 2700: 0.401436\n",
      "Cost after iteration 2800: 0.378910\n",
      "Cost after iteration 2900: 0.356591\n"
     ]
    },
    {
     "data": {
      "image/png": "[encoded data removed]",
      "text/plain": [
       "<Figure size 432x288 with 1 Axes>"
      ]
     },
     "metadata": {
      "needs_background": "light"
     },
     "output_type": "display_data"
    },
    {
     "name": "stdout",
     "output_type": "stream",
     "text": [
      "training accuracy\n",
      "Accuracy: 0.9314472252448311\n",
      "test accuracy\n",
      "Accuracy: 0.9314472252448311\n"
     ]
    }
   ],
   "source": [
    "parameters = model(X_train, y_train, layers_dims, num_iterations = 3000, print_cost = True, AF='sigmoid')\n",
    "print('training accuracy')\n",
    "pred_train = predict(X_train, y_train, parameters)\n",
    "print('test accuracy')\n",
    "pred_test = predict(X_train, y_train, parameters)\n",
    "\n"
   ]
  },
  {
   "cell_type": "code",
   "execution_count": 15,
   "metadata": {},
   "outputs": [
    {
     "name": "stdout",
     "output_type": "stream",
     "text": [
      "Cost after iteration 0: 0.778486\n",
      "Cost after iteration 100: 0.561190\n",
      "Cost after iteration 200: 0.476106\n",
      "Cost after iteration 300: 0.387325\n",
      "Cost after iteration 400: 0.283783\n",
      "Cost after iteration 500: 0.181430\n",
      "Cost after iteration 600: 0.117326\n",
      "Cost after iteration 700: 0.084512\n",
      "Cost after iteration 800: 0.065591\n",
      "Cost after iteration 900: 0.053163\n",
      "Cost after iteration 1000: 0.044157\n",
      "Cost after iteration 1100: 0.037393\n",
      "Cost after iteration 1200: 0.032278\n",
      "Cost after iteration 1300: 0.028520\n",
      "Cost after iteration 1400: 0.026155\n",
      "Cost after iteration 1500: 0.025607\n",
      "Cost after iteration 1600: 0.026242\n",
      "Cost after iteration 1700: 0.026856\n",
      "Cost after iteration 1800: 0.027103\n",
      "Cost after iteration 1900: 0.025654\n",
      "Cost after iteration 2000: 0.024128\n",
      "Cost after iteration 2100: 0.022310\n",
      "Cost after iteration 2200: 0.020637\n",
      "Cost after iteration 2300: 0.019378\n",
      "Cost after iteration 2400: 0.018235\n",
      "Cost after iteration 2500: 0.017067\n",
      "Cost after iteration 2600: 0.016051\n",
      "Cost after iteration 2700: 0.015240\n",
      "Cost after iteration 2800: 0.014805\n",
      "Cost after iteration 2900: 0.014622\n"
     ]
    },
    {
     "data": {
      "image/png": "[encoded data removed]",
      "text/plain": [
       "<Figure size 432x288 with 1 Axes>"
      ]
     },
     "metadata": {
      "needs_background": "light"
     },
     "output_type": "display_data"
    },
    {
     "name": "stdout",
     "output_type": "stream",
     "text": [
      "training accuracy\n",
      "Accuracy: 0.9804134929270945\n",
      "test accuracy\n",
      "Accuracy: 0.9804134929270945\n"
     ]
    }
   ],
   "source": [
    "parameters = model(X_train, y_train, layers_dims, num_iterations = 3000, print_cost = True, AF='Lrelu')\n",
    "print('training accuracy')\n",
    "pred_train = predict(X_train, y_train, parameters)\n",
    "print('test accuracy')\n",
    "pred_test = predict(X_train, y_train, parameters)\n",
    "\n"
   ]
  },
  {
   "cell_type": "code",
   "execution_count": 16,
   "metadata": {},
   "outputs": [
    {
     "name": "stdout",
     "output_type": "stream",
     "text": [
      "Cost after iteration 0: 0.784186\n",
      "Cost after iteration 100: 0.568919\n",
      "Cost after iteration 200: 0.484452\n",
      "Cost after iteration 300: 0.383661\n",
      "Cost after iteration 400: 0.245813\n",
      "Cost after iteration 500: 0.141941\n",
      "Cost after iteration 600: 0.092939\n",
      "Cost after iteration 700: 0.067414\n",
      "Cost after iteration 800: 0.052189\n",
      "Cost after iteration 900: 0.042208\n",
      "Cost after iteration 1000: 0.034957\n",
      "Cost after iteration 1100: 0.029572\n",
      "Cost after iteration 1200: 0.025484\n",
      "Cost after iteration 1300: 0.022316\n",
      "Cost after iteration 1400: 0.019793\n",
      "Cost after iteration 1500: 0.017724\n",
      "Cost after iteration 1600: 0.016015\n",
      "Cost after iteration 1700: 0.014590\n",
      "Cost after iteration 1800: 0.013395\n",
      "Cost after iteration 1900: 0.012383\n",
      "Cost after iteration 2000: 0.011507\n",
      "Cost after iteration 2100: 0.010743\n",
      "Cost after iteration 2200: 0.010076\n",
      "Cost after iteration 2300: 0.009480\n",
      "Cost after iteration 2400: 0.008948\n",
      "Cost after iteration 2500: 0.008471\n",
      "Cost after iteration 2600: 0.008041\n",
      "Cost after iteration 2700: 0.007654\n",
      "Cost after iteration 2800: 0.007304\n",
      "Cost after iteration 2900: 0.006983\n"
     ]
    },
    {
     "data": {
      "image/png": "[encoded data removed]",
      "text/plain": [
       "<Figure size 432x288 with 1 Axes>"
      ]
     },
     "metadata": {
      "needs_background": "light"
     },
     "output_type": "display_data"
    },
    {
     "name": "stdout",
     "output_type": "stream",
     "text": [
      "training accuracy\n",
      "Accuracy: 0.9999999999999998\n",
      "test accuracy\n",
      "Accuracy: 0.9999999999999998\n"
     ]
    }
   ],
   "source": [
    "parameters = model(X_train, y_train, layers_dims, num_iterations = 3000, print_cost = True, AF='relu')\n",
    "print('training accuracy')\n",
    "pred_train = predict(X_train, y_train, parameters)\n",
    "print('test accuracy')\n",
    "pred_test = predict(X_train, y_train, parameters)\n",
    "\n"
   ]
  },
  {
   "cell_type": "code",
   "execution_count": 17,
   "metadata": {},
   "outputs": [
    {
     "name": "stdout",
     "output_type": "stream",
     "text": [
      "Cost after iteration 0: 0.585340\n",
      "Cost after iteration 100: 0.636006\n",
      "Cost after iteration 200: 0.613529\n",
      "Cost after iteration 300: 0.595268\n",
      "Cost after iteration 400: 0.603352\n",
      "Cost after iteration 500: 0.602189\n",
      "Cost after iteration 600: 0.601277\n",
      "Cost after iteration 700: 0.600533\n",
      "Cost after iteration 800: 0.599924\n",
      "Cost after iteration 900: 0.599423\n",
      "Cost after iteration 1000: 0.599008\n",
      "Cost after iteration 1100: 0.598665\n",
      "Cost after iteration 1200: 0.598379\n",
      "Cost after iteration 1300: 0.598140\n",
      "Cost after iteration 1400: 0.597940\n",
      "Cost after iteration 1500: 0.597773\n",
      "Cost after iteration 1600: 0.597632\n",
      "Cost after iteration 1700: 0.597513\n",
      "Cost after iteration 1800: 0.597413\n",
      "Cost after iteration 1900: 0.597328\n",
      "Cost after iteration 2000: 0.597256\n",
      "Cost after iteration 2100: 0.598185\n",
      "Cost after iteration 2200: 0.598135\n",
      "Cost after iteration 2300: 0.598093\n",
      "Cost after iteration 2400: 0.598057\n",
      "Cost after iteration 2500: 0.598026\n",
      "Cost after iteration 2600: 0.598000\n",
      "Cost after iteration 2700: 0.597977\n",
      "Cost after iteration 2800: 0.597958\n",
      "Cost after iteration 2900: 0.597941\n"
     ]
    },
    {
     "data": {
      "image/png": "[encoded data removed]",
      "text/plain": [
       "<Figure size 432x288 with 1 Axes>"
      ]
     },
     "metadata": {
      "needs_background": "light"
     },
     "output_type": "display_data"
    },
    {
     "name": "stdout",
     "output_type": "stream",
     "text": [
      "training accuracy\n",
      "Accuracy: 0.44178454842219805\n",
      "test accuracy\n",
      "Accuracy: 0.44178454842219805\n"
     ]
    }
   ],
   "source": [
    "parameters = model(X_train, y_train, layers_dims, num_iterations = 3000, print_cost = True, AF='tanh')\n",
    "print('training accuracy')\n",
    "pred_train = predict(X_train, y_train, parameters)\n",
    "print('test accuracy')\n",
    "pred_test = predict(X_train, y_train, parameters)\n",
    "\n"
   ]
  },
  {
   "cell_type": "code",
   "execution_count": null,
   "metadata": {},
   "outputs": [],
   "source": []
  },
  {
   "cell_type": "code",
   "execution_count": null,
   "metadata": {},
   "outputs": [],
   "source": []
  },
  {
   "cell_type": "code",
   "execution_count": null,
   "metadata": {},
   "outputs": [],
   "source": []
  },
  {
   "cell_type": "code",
   "execution_count": null,
   "metadata": {},
   "outputs": [],
   "source": []
  },
  {
   "cell_type": "code",
   "execution_count": null,
   "metadata": {},
   "outputs": [],
   "source": []
  },
  {
   "cell_type": "code",
   "execution_count": null,
   "metadata": {},
   "outputs": [],
   "source": []
  },
  {
   "cell_type": "code",
   "execution_count": null,
   "metadata": {},
   "outputs": [],
   "source": []
  },
  {
   "cell_type": "code",
   "execution_count": 19,
   "metadata": {},
   "outputs": [],
   "source": []
  },
  {
   "cell_type": "code",
   "execution_count": null,
   "metadata": {},
   "outputs": [],
   "source": []
  }
 ],
 "metadata": {
  "kernelspec": {
   "display_name": "Python 3",
   "language": "python",
   "name": "python3"
  },
  "language_info": {
   "codemirror_mode": {
    "name": "ipython",
    "version": 3
   },
   "file_extension": ".py",
   "mimetype": "text/x-python",
   "name": "python",
   "nbconvert_exporter": "python",
   "pygments_lexer": "ipython3",
   "version": "3.6.9"
  }
 },
 "nbformat": 4,
 "nbformat_minor": 4
}
